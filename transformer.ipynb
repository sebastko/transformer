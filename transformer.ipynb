{
 "cells": [
  {
   "cell_type": "code",
   "execution_count": 5,
   "metadata": {},
   "outputs": [],
   "source": [
    "import transformer\n",
    "import torch"
   ]
  },
  {
   "cell_type": "code",
   "execution_count": 6,
   "metadata": {},
   "outputs": [],
   "source": [
    "batch_size = 2\n",
    "num_tokens = 100\n",
    "seq_len = 16 # 4096\n",
    "n_layers = 2 # 6\n",
    "d_model = 512\n",
    "d_ff = 2048\n",
    "num_heads = 8\n",
    "p_drop = 0.1"
   ]
  },
  {
   "cell_type": "code",
   "execution_count": 7,
   "metadata": {},
   "outputs": [],
   "source": [
    "enc = transformer.TransformerEncoder(\n",
    "    d_input=num_tokens,\n",
    "    max_len=seq_len,\n",
    "    n_layers=n_layers,\n",
    "    d_model=d_model,\n",
    "    d_ff=d_ff,\n",
    "    num_heads=num_heads,\n",
    "    p_drop=p_drop,\n",
    "    device=None)"
   ]
  },
  {
   "cell_type": "code",
   "execution_count": 8,
   "metadata": {},
   "outputs": [
    {
     "data": {
      "text/plain": [
       "TransformerEncoder(\n",
       "  (token_emb): Embedding(100, 512)\n",
       "  (pos_emb): PositionalEmbeddings()\n",
       "  (emb_dropout): Dropout(p=0.1, inplace=False)\n",
       "  (layers): Sequential(\n",
       "    (0): TransformerEncoderLayer(\n",
       "      (multi_head_attention): MultiHeadAttention(\n",
       "        (single_head_attentions): ModuleList(\n",
       "          (0): SingleHeadAttention(\n",
       "            (W_Q): Linear(in_features=512, out_features=64, bias=False)\n",
       "            (W_K): Linear(in_features=512, out_features=64, bias=False)\n",
       "            (W_V): Linear(in_features=512, out_features=64, bias=False)\n",
       "          )\n",
       "          (1): SingleHeadAttention(\n",
       "            (W_Q): Linear(in_features=512, out_features=64, bias=False)\n",
       "            (W_K): Linear(in_features=512, out_features=64, bias=False)\n",
       "            (W_V): Linear(in_features=512, out_features=64, bias=False)\n",
       "          )\n",
       "          (2): SingleHeadAttention(\n",
       "            (W_Q): Linear(in_features=512, out_features=64, bias=False)\n",
       "            (W_K): Linear(in_features=512, out_features=64, bias=False)\n",
       "            (W_V): Linear(in_features=512, out_features=64, bias=False)\n",
       "          )\n",
       "          (3): SingleHeadAttention(\n",
       "            (W_Q): Linear(in_features=512, out_features=64, bias=False)\n",
       "            (W_K): Linear(in_features=512, out_features=64, bias=False)\n",
       "            (W_V): Linear(in_features=512, out_features=64, bias=False)\n",
       "          )\n",
       "          (4): SingleHeadAttention(\n",
       "            (W_Q): Linear(in_features=512, out_features=64, bias=False)\n",
       "            (W_K): Linear(in_features=512, out_features=64, bias=False)\n",
       "            (W_V): Linear(in_features=512, out_features=64, bias=False)\n",
       "          )\n",
       "          (5): SingleHeadAttention(\n",
       "            (W_Q): Linear(in_features=512, out_features=64, bias=False)\n",
       "            (W_K): Linear(in_features=512, out_features=64, bias=False)\n",
       "            (W_V): Linear(in_features=512, out_features=64, bias=False)\n",
       "          )\n",
       "          (6): SingleHeadAttention(\n",
       "            (W_Q): Linear(in_features=512, out_features=64, bias=False)\n",
       "            (W_K): Linear(in_features=512, out_features=64, bias=False)\n",
       "            (W_V): Linear(in_features=512, out_features=64, bias=False)\n",
       "          )\n",
       "          (7): SingleHeadAttention(\n",
       "            (W_Q): Linear(in_features=512, out_features=64, bias=False)\n",
       "            (W_K): Linear(in_features=512, out_features=64, bias=False)\n",
       "            (W_V): Linear(in_features=512, out_features=64, bias=False)\n",
       "          )\n",
       "        )\n",
       "        (W_O): Linear(in_features=512, out_features=512, bias=False)\n",
       "      )\n",
       "      (dropout1): Dropout(p=0.1, inplace=False)\n",
       "      (norm1): LayerNorm((512,), eps=1e-05, elementwise_affine=True)\n",
       "      (ff1): Linear(in_features=512, out_features=2048, bias=True)\n",
       "      (ff2): Linear(in_features=2048, out_features=512, bias=True)\n",
       "      (dropout2): Dropout(p=0.1, inplace=False)\n",
       "      (norm2): LayerNorm((512,), eps=1e-05, elementwise_affine=True)\n",
       "    )\n",
       "    (1): TransformerEncoderLayer(\n",
       "      (multi_head_attention): MultiHeadAttention(\n",
       "        (single_head_attentions): ModuleList(\n",
       "          (0): SingleHeadAttention(\n",
       "            (W_Q): Linear(in_features=512, out_features=64, bias=False)\n",
       "            (W_K): Linear(in_features=512, out_features=64, bias=False)\n",
       "            (W_V): Linear(in_features=512, out_features=64, bias=False)\n",
       "          )\n",
       "          (1): SingleHeadAttention(\n",
       "            (W_Q): Linear(in_features=512, out_features=64, bias=False)\n",
       "            (W_K): Linear(in_features=512, out_features=64, bias=False)\n",
       "            (W_V): Linear(in_features=512, out_features=64, bias=False)\n",
       "          )\n",
       "          (2): SingleHeadAttention(\n",
       "            (W_Q): Linear(in_features=512, out_features=64, bias=False)\n",
       "            (W_K): Linear(in_features=512, out_features=64, bias=False)\n",
       "            (W_V): Linear(in_features=512, out_features=64, bias=False)\n",
       "          )\n",
       "          (3): SingleHeadAttention(\n",
       "            (W_Q): Linear(in_features=512, out_features=64, bias=False)\n",
       "            (W_K): Linear(in_features=512, out_features=64, bias=False)\n",
       "            (W_V): Linear(in_features=512, out_features=64, bias=False)\n",
       "          )\n",
       "          (4): SingleHeadAttention(\n",
       "            (W_Q): Linear(in_features=512, out_features=64, bias=False)\n",
       "            (W_K): Linear(in_features=512, out_features=64, bias=False)\n",
       "            (W_V): Linear(in_features=512, out_features=64, bias=False)\n",
       "          )\n",
       "          (5): SingleHeadAttention(\n",
       "            (W_Q): Linear(in_features=512, out_features=64, bias=False)\n",
       "            (W_K): Linear(in_features=512, out_features=64, bias=False)\n",
       "            (W_V): Linear(in_features=512, out_features=64, bias=False)\n",
       "          )\n",
       "          (6): SingleHeadAttention(\n",
       "            (W_Q): Linear(in_features=512, out_features=64, bias=False)\n",
       "            (W_K): Linear(in_features=512, out_features=64, bias=False)\n",
       "            (W_V): Linear(in_features=512, out_features=64, bias=False)\n",
       "          )\n",
       "          (7): SingleHeadAttention(\n",
       "            (W_Q): Linear(in_features=512, out_features=64, bias=False)\n",
       "            (W_K): Linear(in_features=512, out_features=64, bias=False)\n",
       "            (W_V): Linear(in_features=512, out_features=64, bias=False)\n",
       "          )\n",
       "        )\n",
       "        (W_O): Linear(in_features=512, out_features=512, bias=False)\n",
       "      )\n",
       "      (dropout1): Dropout(p=0.1, inplace=False)\n",
       "      (norm1): LayerNorm((512,), eps=1e-05, elementwise_affine=True)\n",
       "      (ff1): Linear(in_features=512, out_features=2048, bias=True)\n",
       "      (ff2): Linear(in_features=2048, out_features=512, bias=True)\n",
       "      (dropout2): Dropout(p=0.1, inplace=False)\n",
       "      (norm2): LayerNorm((512,), eps=1e-05, elementwise_affine=True)\n",
       "    )\n",
       "  )\n",
       ")"
      ]
     },
     "execution_count": 8,
     "metadata": {},
     "output_type": "execute_result"
    }
   ],
   "source": [
    "enc"
   ]
  },
  {
   "cell_type": "code",
   "execution_count": 11,
   "metadata": {},
   "outputs": [
    {
     "name": "stderr",
     "output_type": "stream",
     "text": [
      "/home/sebastko/src/scratch/transformer/transformer.py:85: UserWarning: torch.range is deprecated and will be removed in a future release because its behavior is inconsistent with Python's range builtin. Instead, use torch.arange, which produces values in [start, end).\n",
      "  positions = torch.range(0, seq_len-1, dtype=torch.int)\n"
     ]
    }
   ],
   "source": [
    "x = torch.randint(0, num_tokens-1, (batch_size, seq_len), dtype=torch.int)\n",
    "\n",
    "y = enc(x)"
   ]
  },
  {
   "cell_type": "code",
   "execution_count": 12,
   "metadata": {},
   "outputs": [
    {
     "data": {
      "text/plain": [
       "torch.Size([2, 16, 512])"
      ]
     },
     "execution_count": 12,
     "metadata": {},
     "output_type": "execute_result"
    }
   ],
   "source": [
    "y.shape"
   ]
  }
 ],
 "metadata": {
  "kernelspec": {
   "display_name": "Python 3.8.13 64-bit ('nlp': conda)",
   "language": "python",
   "name": "python3"
  },
  "language_info": {
   "codemirror_mode": {
    "name": "ipython",
    "version": 3
   },
   "file_extension": ".py",
   "mimetype": "text/x-python",
   "name": "python",
   "nbconvert_exporter": "python",
   "pygments_lexer": "ipython3",
   "version": "3.8.13"
  },
  "orig_nbformat": 4,
  "vscode": {
   "interpreter": {
    "hash": "b3e1dc0719e0fdac1a3bdd065cf8a7c549e39494ab8093142f9d2f1312480caa"
   }
  }
 },
 "nbformat": 4,
 "nbformat_minor": 2
}
